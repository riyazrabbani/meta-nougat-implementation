{
  "nbformat": 4,
  "nbformat_minor": 0,
  "metadata": {
    "colab": {
      "provenance": [],
      "gpuType": "T4"
    },
    "kernelspec": {
      "name": "python3",
      "display_name": "Python 3"
    },
    "language_info": {
      "name": "python"
    },
    "accelerator": "GPU"
  },
  "cells": [
    {
      "cell_type": "code",
      "execution_count": null,
      "metadata": {
        "id": "C25Sgwqxkk1h"
      },
      "outputs": [],
      "source": [
        "from IPython import display\n",
        "import os"
      ]
    },
    {
      "cell_type": "code",
      "source": [
        "!pip install git+https://github.com/facebookresearch/nougat\n",
        "display.clear_output()"
      ],
      "metadata": {
        "id": "zjtCgLy2kodq"
      },
      "execution_count": null,
      "outputs": []
    },
    {
      "cell_type": "code",
      "source": [
        "pip install albumentations==1.0.1"
      ],
      "metadata": {
        "colab": {
          "base_uri": "https://localhost:8080/"
        },
        "id": "6OnqnYW8cF23",
        "outputId": "560456be-ca16-4161-a8ca-696c336b4bbb"
      },
      "execution_count": null,
      "outputs": [
        {
          "output_type": "stream",
          "name": "stdout",
          "text": [
            "Collecting albumentations==1.0.1\n",
            "  Downloading albumentations-1.0.1-py3-none-any.whl.metadata (31 kB)\n",
            "Requirement already satisfied: numpy>=1.11.1 in /usr/local/lib/python3.10/dist-packages (from albumentations==1.0.1) (1.26.4)\n",
            "Requirement already satisfied: scipy in /usr/local/lib/python3.10/dist-packages (from albumentations==1.0.1) (1.13.1)\n",
            "Requirement already satisfied: scikit-image>=0.16.1 in /usr/local/lib/python3.10/dist-packages (from albumentations==1.0.1) (0.23.2)\n",
            "Requirement already satisfied: PyYAML in /usr/local/lib/python3.10/dist-packages (from albumentations==1.0.1) (6.0.2)\n",
            "Requirement already satisfied: opencv-python-headless>=4.1.1 in /usr/local/lib/python3.10/dist-packages (from albumentations==1.0.1) (4.10.0.84)\n",
            "Requirement already satisfied: networkx>=2.8 in /usr/local/lib/python3.10/dist-packages (from scikit-image>=0.16.1->albumentations==1.0.1) (3.3)\n",
            "Requirement already satisfied: pillow>=9.1 in /usr/local/lib/python3.10/dist-packages (from scikit-image>=0.16.1->albumentations==1.0.1) (9.4.0)\n",
            "Requirement already satisfied: imageio>=2.33 in /usr/local/lib/python3.10/dist-packages (from scikit-image>=0.16.1->albumentations==1.0.1) (2.34.2)\n",
            "Requirement already satisfied: tifffile>=2022.8.12 in /usr/local/lib/python3.10/dist-packages (from scikit-image>=0.16.1->albumentations==1.0.1) (2024.8.30)\n",
            "Requirement already satisfied: packaging>=21 in /usr/local/lib/python3.10/dist-packages (from scikit-image>=0.16.1->albumentations==1.0.1) (24.1)\n",
            "Requirement already satisfied: lazy-loader>=0.4 in /usr/local/lib/python3.10/dist-packages (from scikit-image>=0.16.1->albumentations==1.0.1) (0.4)\n",
            "Downloading albumentations-1.0.1-py3-none-any.whl (98 kB)\n",
            "\u001b[2K   \u001b[90m━━━━━━━━━━━━━━━━━━━━━━━━━━━━━━━━━━━━━━━━\u001b[0m \u001b[32m98.5/98.5 kB\u001b[0m \u001b[31m4.2 MB/s\u001b[0m eta \u001b[36m0:00:00\u001b[0m\n",
            "\u001b[?25hInstalling collected packages: albumentations\n",
            "  Attempting uninstall: albumentations\n",
            "    Found existing installation: albumentations 1.4.15\n",
            "    Uninstalling albumentations-1.4.15:\n",
            "      Successfully uninstalled albumentations-1.4.15\n",
            "Successfully installed albumentations-1.0.1\n"
          ]
        }
      ]
    },
    {
      "cell_type": "code",
      "source": [
        "pip install transformers==4.30.0 torch==2.0.1"
      ],
      "metadata": {
        "id": "XUALx9eOeZRS",
        "colab": {
          "base_uri": "https://localhost:8080/"
        },
        "outputId": "048d2f63-1a5f-4715-8949-9968f426776b"
      },
      "execution_count": null,
      "outputs": [
        {
          "output_type": "stream",
          "name": "stdout",
          "text": [
            "Collecting transformers==4.30.0\n",
            "  Downloading transformers-4.30.0-py3-none-any.whl.metadata (113 kB)\n",
            "\u001b[?25l     \u001b[90m━━━━━━━━━━━━━━━━━━━━━━━━━━━━━━━━━━━━━━━━\u001b[0m \u001b[32m0.0/113.6 kB\u001b[0m \u001b[31m?\u001b[0m eta \u001b[36m-:--:--\u001b[0m\r\u001b[2K     \u001b[90m━━━━━━━━━━━━━━━━━━━━━━━━━━━━━━━━━━━━━━━━\u001b[0m \u001b[32m113.6/113.6 kB\u001b[0m \u001b[31m4.5 MB/s\u001b[0m eta \u001b[36m0:00:00\u001b[0m\n",
            "\u001b[?25hCollecting torch==2.0.1\n",
            "  Downloading torch-2.0.1-cp310-cp310-manylinux1_x86_64.whl.metadata (24 kB)\n",
            "Requirement already satisfied: filelock in /usr/local/lib/python3.10/dist-packages (from transformers==4.30.0) (3.16.0)\n",
            "Requirement already satisfied: huggingface-hub<1.0,>=0.14.1 in /usr/local/lib/python3.10/dist-packages (from transformers==4.30.0) (0.24.7)\n",
            "Requirement already satisfied: numpy>=1.17 in /usr/local/lib/python3.10/dist-packages (from transformers==4.30.0) (1.26.4)\n",
            "Requirement already satisfied: packaging>=20.0 in /usr/local/lib/python3.10/dist-packages (from transformers==4.30.0) (24.1)\n",
            "Requirement already satisfied: pyyaml>=5.1 in /usr/local/lib/python3.10/dist-packages (from transformers==4.30.0) (6.0.2)\n",
            "Requirement already satisfied: regex!=2019.12.17 in /usr/local/lib/python3.10/dist-packages (from transformers==4.30.0) (2024.5.15)\n",
            "Requirement already satisfied: requests in /usr/local/lib/python3.10/dist-packages (from transformers==4.30.0) (2.32.3)\n",
            "Collecting tokenizers!=0.11.3,<0.14,>=0.11.1 (from transformers==4.30.0)\n",
            "  Downloading tokenizers-0.13.3-cp310-cp310-manylinux_2_17_x86_64.manylinux2014_x86_64.whl.metadata (6.7 kB)\n",
            "Requirement already satisfied: safetensors>=0.3.1 in /usr/local/lib/python3.10/dist-packages (from transformers==4.30.0) (0.4.5)\n",
            "Requirement already satisfied: tqdm>=4.27 in /usr/local/lib/python3.10/dist-packages (from transformers==4.30.0) (4.66.5)\n",
            "Requirement already satisfied: typing-extensions in /usr/local/lib/python3.10/dist-packages (from torch==2.0.1) (4.12.2)\n",
            "Requirement already satisfied: sympy in /usr/local/lib/python3.10/dist-packages (from torch==2.0.1) (1.13.2)\n",
            "Requirement already satisfied: networkx in /usr/local/lib/python3.10/dist-packages (from torch==2.0.1) (3.3)\n",
            "Requirement already satisfied: jinja2 in /usr/local/lib/python3.10/dist-packages (from torch==2.0.1) (3.1.4)\n",
            "Collecting nvidia-cuda-nvrtc-cu11==11.7.99 (from torch==2.0.1)\n",
            "  Downloading nvidia_cuda_nvrtc_cu11-11.7.99-2-py3-none-manylinux1_x86_64.whl.metadata (1.5 kB)\n",
            "Collecting nvidia-cuda-runtime-cu11==11.7.99 (from torch==2.0.1)\n",
            "  Downloading nvidia_cuda_runtime_cu11-11.7.99-py3-none-manylinux1_x86_64.whl.metadata (1.6 kB)\n",
            "Collecting nvidia-cuda-cupti-cu11==11.7.101 (from torch==2.0.1)\n",
            "  Downloading nvidia_cuda_cupti_cu11-11.7.101-py3-none-manylinux1_x86_64.whl.metadata (1.6 kB)\n",
            "Collecting nvidia-cudnn-cu11==8.5.0.96 (from torch==2.0.1)\n",
            "  Downloading nvidia_cudnn_cu11-8.5.0.96-2-py3-none-manylinux1_x86_64.whl.metadata (1.6 kB)\n",
            "Collecting nvidia-cublas-cu11==11.10.3.66 (from torch==2.0.1)\n",
            "  Downloading nvidia_cublas_cu11-11.10.3.66-py3-none-manylinux1_x86_64.whl.metadata (1.6 kB)\n",
            "Collecting nvidia-cufft-cu11==10.9.0.58 (from torch==2.0.1)\n",
            "  Downloading nvidia_cufft_cu11-10.9.0.58-py3-none-manylinux2014_x86_64.whl.metadata (1.5 kB)\n",
            "Collecting nvidia-curand-cu11==10.2.10.91 (from torch==2.0.1)\n",
            "  Downloading nvidia_curand_cu11-10.2.10.91-py3-none-manylinux1_x86_64.whl.metadata (1.6 kB)\n",
            "Collecting nvidia-cusolver-cu11==11.4.0.1 (from torch==2.0.1)\n",
            "  Downloading nvidia_cusolver_cu11-11.4.0.1-2-py3-none-manylinux1_x86_64.whl.metadata (1.6 kB)\n",
            "Collecting nvidia-cusparse-cu11==11.7.4.91 (from torch==2.0.1)\n",
            "  Downloading nvidia_cusparse_cu11-11.7.4.91-py3-none-manylinux1_x86_64.whl.metadata (1.6 kB)\n",
            "Collecting nvidia-nccl-cu11==2.14.3 (from torch==2.0.1)\n",
            "  Downloading nvidia_nccl_cu11-2.14.3-py3-none-manylinux1_x86_64.whl.metadata (1.8 kB)\n",
            "Collecting nvidia-nvtx-cu11==11.7.91 (from torch==2.0.1)\n",
            "  Downloading nvidia_nvtx_cu11-11.7.91-py3-none-manylinux1_x86_64.whl.metadata (1.7 kB)\n",
            "Collecting triton==2.0.0 (from torch==2.0.1)\n",
            "  Downloading triton-2.0.0-1-cp310-cp310-manylinux2014_x86_64.manylinux_2_17_x86_64.whl.metadata (1.0 kB)\n",
            "Requirement already satisfied: setuptools in /usr/local/lib/python3.10/dist-packages (from nvidia-cublas-cu11==11.10.3.66->torch==2.0.1) (71.0.4)\n",
            "Requirement already satisfied: wheel in /usr/local/lib/python3.10/dist-packages (from nvidia-cublas-cu11==11.10.3.66->torch==2.0.1) (0.44.0)\n",
            "Requirement already satisfied: cmake in /usr/local/lib/python3.10/dist-packages (from triton==2.0.0->torch==2.0.1) (3.30.3)\n",
            "Collecting lit (from triton==2.0.0->torch==2.0.1)\n",
            "  Downloading lit-18.1.8-py3-none-any.whl.metadata (2.5 kB)\n",
            "Requirement already satisfied: fsspec>=2023.5.0 in /usr/local/lib/python3.10/dist-packages (from huggingface-hub<1.0,>=0.14.1->transformers==4.30.0) (2024.6.1)\n",
            "Requirement already satisfied: MarkupSafe>=2.0 in /usr/local/lib/python3.10/dist-packages (from jinja2->torch==2.0.1) (2.1.5)\n",
            "Requirement already satisfied: charset-normalizer<4,>=2 in /usr/local/lib/python3.10/dist-packages (from requests->transformers==4.30.0) (3.3.2)\n",
            "Requirement already satisfied: idna<4,>=2.5 in /usr/local/lib/python3.10/dist-packages (from requests->transformers==4.30.0) (3.8)\n",
            "Requirement already satisfied: urllib3<3,>=1.21.1 in /usr/local/lib/python3.10/dist-packages (from requests->transformers==4.30.0) (2.0.7)\n",
            "Requirement already satisfied: certifi>=2017.4.17 in /usr/local/lib/python3.10/dist-packages (from requests->transformers==4.30.0) (2024.8.30)\n",
            "Requirement already satisfied: mpmath<1.4,>=1.1.0 in /usr/local/lib/python3.10/dist-packages (from sympy->torch==2.0.1) (1.3.0)\n",
            "Downloading transformers-4.30.0-py3-none-any.whl (7.2 MB)\n",
            "\u001b[2K   \u001b[90m━━━━━━━━━━━━━━━━━━━━━━━━━━━━━━━━━━━━━━━━\u001b[0m \u001b[32m7.2/7.2 MB\u001b[0m \u001b[31m75.1 MB/s\u001b[0m eta \u001b[36m0:00:00\u001b[0m\n",
            "\u001b[?25hDownloading torch-2.0.1-cp310-cp310-manylinux1_x86_64.whl (619.9 MB)\n",
            "\u001b[2K   \u001b[90m━━━━━━━━━━━━━━━━━━━━━━━━━━━━━━━━━━━━━━━━\u001b[0m \u001b[32m619.9/619.9 MB\u001b[0m \u001b[31m2.0 MB/s\u001b[0m eta \u001b[36m0:00:00\u001b[0m\n",
            "\u001b[?25hDownloading nvidia_cublas_cu11-11.10.3.66-py3-none-manylinux1_x86_64.whl (317.1 MB)\n",
            "\u001b[2K   \u001b[90m━━━━━━━━━━━━━━━━━━━━━━━━━━━━━━━━━━━━━━━━\u001b[0m \u001b[32m317.1/317.1 MB\u001b[0m \u001b[31m4.5 MB/s\u001b[0m eta \u001b[36m0:00:00\u001b[0m\n",
            "\u001b[?25hDownloading nvidia_cuda_cupti_cu11-11.7.101-py3-none-manylinux1_x86_64.whl (11.8 MB)\n",
            "\u001b[2K   \u001b[90m━━━━━━━━━━━━━━━━━━━━━━━━━━━━━━━━━━━━━━━━\u001b[0m \u001b[32m11.8/11.8 MB\u001b[0m \u001b[31m116.5 MB/s\u001b[0m eta \u001b[36m0:00:00\u001b[0m\n",
            "\u001b[?25hDownloading nvidia_cuda_nvrtc_cu11-11.7.99-2-py3-none-manylinux1_x86_64.whl (21.0 MB)\n",
            "\u001b[2K   \u001b[90m━━━━━━━━━━━━━━━━━━━━━━━━━━━━━━━━━━━━━━━━\u001b[0m \u001b[32m21.0/21.0 MB\u001b[0m \u001b[31m94.8 MB/s\u001b[0m eta \u001b[36m0:00:00\u001b[0m\n",
            "\u001b[?25hDownloading nvidia_cuda_runtime_cu11-11.7.99-py3-none-manylinux1_x86_64.whl (849 kB)\n",
            "\u001b[2K   \u001b[90m━━━━━━━━━━━━━━━━━━━━━━━━━━━━━━━━━━━━━━━━\u001b[0m \u001b[32m849.3/849.3 kB\u001b[0m \u001b[31m56.7 MB/s\u001b[0m eta \u001b[36m0:00:00\u001b[0m\n",
            "\u001b[?25hDownloading nvidia_cudnn_cu11-8.5.0.96-2-py3-none-manylinux1_x86_64.whl (557.1 MB)\n",
            "\u001b[2K   \u001b[90m━━━━━━━━━━━━━━━━━━━━━━━━━━━━━━━━━━━━━━━━\u001b[0m \u001b[32m557.1/557.1 MB\u001b[0m \u001b[31m2.8 MB/s\u001b[0m eta \u001b[36m0:00:00\u001b[0m\n",
            "\u001b[?25hDownloading nvidia_cufft_cu11-10.9.0.58-py3-none-manylinux2014_x86_64.whl (168.4 MB)\n",
            "\u001b[2K   \u001b[90m━━━━━━━━━━━━━━━━━━━━━━━━━━━━━━━━━━━━━━━━\u001b[0m \u001b[32m168.4/168.4 MB\u001b[0m \u001b[31m7.4 MB/s\u001b[0m eta \u001b[36m0:00:00\u001b[0m\n",
            "\u001b[?25hDownloading nvidia_curand_cu11-10.2.10.91-py3-none-manylinux1_x86_64.whl (54.6 MB)\n",
            "\u001b[2K   \u001b[90m━━━━━━━━━━━━━━━━━━━━━━━━━━━━━━━━━━━━━━━━\u001b[0m \u001b[32m54.6/54.6 MB\u001b[0m \u001b[31m12.3 MB/s\u001b[0m eta \u001b[36m0:00:00\u001b[0m\n",
            "\u001b[?25hDownloading nvidia_cusolver_cu11-11.4.0.1-2-py3-none-manylinux1_x86_64.whl (102.6 MB)\n",
            "\u001b[2K   \u001b[90m━━━━━━━━━━━━━━━━━━━━━━━━━━━━━━━━━━━━━━━━\u001b[0m \u001b[32m102.6/102.6 MB\u001b[0m \u001b[31m8.4 MB/s\u001b[0m eta \u001b[36m0:00:00\u001b[0m\n",
            "\u001b[?25hDownloading nvidia_cusparse_cu11-11.7.4.91-py3-none-manylinux1_x86_64.whl (173.2 MB)\n",
            "\u001b[2K   \u001b[90m━━━━━━━━━━━━━━━━━━━━━━━━━━━━━━━━━━━━━━━━\u001b[0m \u001b[32m173.2/173.2 MB\u001b[0m \u001b[31m6.4 MB/s\u001b[0m eta \u001b[36m0:00:00\u001b[0m\n",
            "\u001b[?25hDownloading nvidia_nccl_cu11-2.14.3-py3-none-manylinux1_x86_64.whl (177.1 MB)\n",
            "\u001b[2K   \u001b[90m━━━━━━━━━━━━━━━━━━━━━━━━━━━━━━━━━━━━━━━━\u001b[0m \u001b[32m177.1/177.1 MB\u001b[0m \u001b[31m6.5 MB/s\u001b[0m eta \u001b[36m0:00:00\u001b[0m\n",
            "\u001b[?25hDownloading nvidia_nvtx_cu11-11.7.91-py3-none-manylinux1_x86_64.whl (98 kB)\n",
            "\u001b[2K   \u001b[90m━━━━━━━━━━━━━━━━━━━━━━━━━━━━━━━━━━━━━━━━\u001b[0m \u001b[32m98.6/98.6 kB\u001b[0m \u001b[31m8.9 MB/s\u001b[0m eta \u001b[36m0:00:00\u001b[0m\n",
            "\u001b[?25hDownloading triton-2.0.0-1-cp310-cp310-manylinux2014_x86_64.manylinux_2_17_x86_64.whl (63.3 MB)\n",
            "\u001b[2K   \u001b[90m━━━━━━━━━━━━━━━━━━━━━━━━━━━━━━━━━━━━━━━━\u001b[0m \u001b[32m63.3/63.3 MB\u001b[0m \u001b[31m11.9 MB/s\u001b[0m eta \u001b[36m0:00:00\u001b[0m\n",
            "\u001b[?25hDownloading tokenizers-0.13.3-cp310-cp310-manylinux_2_17_x86_64.manylinux2014_x86_64.whl (7.8 MB)\n",
            "\u001b[2K   \u001b[90m━━━━━━━━━━━━━━━━━━━━━━━━━━━━━━━━━━━━━━━━\u001b[0m \u001b[32m7.8/7.8 MB\u001b[0m \u001b[31m89.1 MB/s\u001b[0m eta \u001b[36m0:00:00\u001b[0m\n",
            "\u001b[?25hDownloading lit-18.1.8-py3-none-any.whl (96 kB)\n",
            "\u001b[2K   \u001b[90m━━━━━━━━━━━━━━━━━━━━━━━━━━━━━━━━━━━━━━━━\u001b[0m \u001b[32m96.4/96.4 kB\u001b[0m \u001b[31m9.2 MB/s\u001b[0m eta \u001b[36m0:00:00\u001b[0m\n",
            "\u001b[?25hInstalling collected packages: tokenizers, lit, nvidia-nvtx-cu11, nvidia-nccl-cu11, nvidia-cusparse-cu11, nvidia-curand-cu11, nvidia-cufft-cu11, nvidia-cuda-runtime-cu11, nvidia-cuda-nvrtc-cu11, nvidia-cuda-cupti-cu11, nvidia-cublas-cu11, nvidia-cusolver-cu11, nvidia-cudnn-cu11, transformers, triton, torch\n",
            "  Attempting uninstall: tokenizers\n",
            "    Found existing installation: tokenizers 0.19.1\n",
            "    Uninstalling tokenizers-0.19.1:\n",
            "      Successfully uninstalled tokenizers-0.19.1\n",
            "  Attempting uninstall: transformers\n",
            "    Found existing installation: transformers 4.44.2\n",
            "    Uninstalling transformers-4.44.2:\n",
            "      Successfully uninstalled transformers-4.44.2\n",
            "  Attempting uninstall: torch\n",
            "    Found existing installation: torch 2.4.0+cu121\n",
            "    Uninstalling torch-2.4.0+cu121:\n",
            "      Successfully uninstalled torch-2.4.0+cu121\n",
            "\u001b[31mERROR: pip's dependency resolver does not currently take into account all the packages that are installed. This behaviour is the source of the following dependency conflicts.\n",
            "lightning 2.4.0 requires torch<4.0,>=2.1.0, but you have torch 2.0.1 which is incompatible.\n",
            "pytorch-lightning 2.4.0 requires torch>=2.1.0, but you have torch 2.0.1 which is incompatible.\n",
            "torchaudio 2.4.0+cu121 requires torch==2.4.0, but you have torch 2.0.1 which is incompatible.\n",
            "torchvision 0.19.0+cu121 requires torch==2.4.0, but you have torch 2.0.1 which is incompatible.\u001b[0m\u001b[31m\n",
            "\u001b[0mSuccessfully installed lit-18.1.8 nvidia-cublas-cu11-11.10.3.66 nvidia-cuda-cupti-cu11-11.7.101 nvidia-cuda-nvrtc-cu11-11.7.99 nvidia-cuda-runtime-cu11-11.7.99 nvidia-cudnn-cu11-8.5.0.96 nvidia-cufft-cu11-10.9.0.58 nvidia-curand-cu11-10.2.10.91 nvidia-cusolver-cu11-11.4.0.1 nvidia-cusparse-cu11-11.7.4.91 nvidia-nccl-cu11-2.14.3 nvidia-nvtx-cu11-11.7.91 tokenizers-0.13.3 torch-2.0.1 transformers-4.30.0 triton-2.0.0\n"
          ]
        }
      ]
    },
    {
      "cell_type": "code",
      "source": [
        "!nougat pdf '/content/input/research.pdf' --out 'output'"
      ],
      "metadata": {
        "colab": {
          "base_uri": "https://localhost:8080/"
        },
        "id": "JIaxu_J0gThj",
        "outputId": "2cd0e53c-20d0-4e59-df3e-57b17e4a2533"
      },
      "execution_count": null,
      "outputs": [
        {
          "output_type": "stream",
          "name": "stdout",
          "text": [
            "Traceback (most recent call last):\n",
            "  File \"/usr/local/bin/nougat\", line 5, in <module>\n",
            "    from predict import main\n",
            "  File \"/usr/local/lib/python3.10/dist-packages/predict.py\", line 18, in <module>\n",
            "    from nougat import NougatModel\n",
            "  File \"/usr/local/lib/python3.10/dist-packages/nougat/__init__.py\", line 7, in <module>\n",
            "    from .model import NougatConfig, NougatModel\n",
            "  File \"/usr/local/lib/python3.10/dist-packages/nougat/model.py\", line 17, in <module>\n",
            "    import timm\n",
            "  File \"/usr/local/lib/python3.10/dist-packages/timm/__init__.py\", line 2, in <module>\n",
            "    from .models import create_model, list_models, is_model, list_modules, model_entrypoint, \\\n",
            "  File \"/usr/local/lib/python3.10/dist-packages/timm/models/__init__.py\", line 1, in <module>\n",
            "    from .beit import *\n",
            "  File \"/usr/local/lib/python3.10/dist-packages/timm/models/beit.py\", line 32, in <module>\n",
            "    from .vision_transformer import checkpoint_filter_fn\n",
            "  File \"/usr/local/lib/python3.10/dist-packages/timm/models/vision_transformer.py\", line 35, in <module>\n",
            "    from timm.data import IMAGENET_DEFAULT_MEAN, IMAGENET_DEFAULT_STD, IMAGENET_INCEPTION_MEAN, IMAGENET_INCEPTION_STD\n",
            "  File \"/usr/local/lib/python3.10/dist-packages/timm/data/__init__.py\", line 5, in <module>\n",
            "    from .dataset import ImageDataset, IterableImageDataset, AugMixDataset\n",
            "  File \"/usr/local/lib/python3.10/dist-packages/timm/data/dataset.py\", line 12, in <module>\n",
            "    from .parsers import create_parser\n",
            "  File \"/usr/local/lib/python3.10/dist-packages/timm/data/parsers/__init__.py\", line 1, in <module>\n",
            "    from .parser_factory import create_parser\n",
            "  File \"/usr/local/lib/python3.10/dist-packages/timm/data/parsers/parser_factory.py\", line 3, in <module>\n",
            "    from .parser_image_folder import ParserImageFolder\n",
            "  File \"/usr/local/lib/python3.10/dist-packages/timm/data/parsers/parser_image_folder.py\", line 10, in <module>\n",
            "    from timm.utils.misc import natural_key\n",
            "  File \"/usr/local/lib/python3.10/dist-packages/timm/utils/__init__.py\", line 2, in <module>\n",
            "    from .checkpoint_saver import CheckpointSaver\n",
            "  File \"/usr/local/lib/python3.10/dist-packages/timm/utils/checkpoint_saver.py\", line 15, in <module>\n",
            "    from .model import unwrap_model, get_state_dict\n",
            "  File \"/usr/local/lib/python3.10/dist-packages/timm/utils/model.py\", line 8, in <module>\n",
            "    from torchvision.ops.misc import FrozenBatchNorm2d\n",
            "  File \"/usr/local/lib/python3.10/dist-packages/torchvision/__init__.py\", line 10, in <module>\n",
            "    from torchvision import _meta_registrations, datasets, io, models, ops, transforms, utils  # usort:skip\n",
            "  File \"/usr/local/lib/python3.10/dist-packages/torchvision/_meta_registrations.py\", line 4, in <module>\n",
            "    import torch._custom_ops\n",
            "ModuleNotFoundError: No module named 'torch._custom_ops'\n"
          ]
        }
      ]
    },
    {
      "cell_type": "code",
      "source": [
        "pip install torch torchvision\n"
      ],
      "metadata": {
        "colab": {
          "base_uri": "https://localhost:8080/"
        },
        "id": "3xOCZ_Kfg83J",
        "outputId": "953822da-aa22-4c04-9bf1-59c592a01f48"
      },
      "execution_count": null,
      "outputs": [
        {
          "output_type": "stream",
          "name": "stdout",
          "text": [
            "Requirement already satisfied: torch in /usr/local/lib/python3.10/dist-packages (2.0.1)\n",
            "Requirement already satisfied: torchvision in /usr/local/lib/python3.10/dist-packages (0.19.0+cu121)\n",
            "Requirement already satisfied: filelock in /usr/local/lib/python3.10/dist-packages (from torch) (3.16.0)\n",
            "Requirement already satisfied: typing-extensions in /usr/local/lib/python3.10/dist-packages (from torch) (4.12.2)\n",
            "Requirement already satisfied: sympy in /usr/local/lib/python3.10/dist-packages (from torch) (1.13.2)\n",
            "Requirement already satisfied: networkx in /usr/local/lib/python3.10/dist-packages (from torch) (3.3)\n",
            "Requirement already satisfied: jinja2 in /usr/local/lib/python3.10/dist-packages (from torch) (3.1.4)\n",
            "Requirement already satisfied: nvidia-cuda-nvrtc-cu11==11.7.99 in /usr/local/lib/python3.10/dist-packages (from torch) (11.7.99)\n",
            "Requirement already satisfied: nvidia-cuda-runtime-cu11==11.7.99 in /usr/local/lib/python3.10/dist-packages (from torch) (11.7.99)\n",
            "Requirement already satisfied: nvidia-cuda-cupti-cu11==11.7.101 in /usr/local/lib/python3.10/dist-packages (from torch) (11.7.101)\n",
            "Requirement already satisfied: nvidia-cudnn-cu11==8.5.0.96 in /usr/local/lib/python3.10/dist-packages (from torch) (8.5.0.96)\n",
            "Requirement already satisfied: nvidia-cublas-cu11==11.10.3.66 in /usr/local/lib/python3.10/dist-packages (from torch) (11.10.3.66)\n",
            "Requirement already satisfied: nvidia-cufft-cu11==10.9.0.58 in /usr/local/lib/python3.10/dist-packages (from torch) (10.9.0.58)\n",
            "Requirement already satisfied: nvidia-curand-cu11==10.2.10.91 in /usr/local/lib/python3.10/dist-packages (from torch) (10.2.10.91)\n",
            "Requirement already satisfied: nvidia-cusolver-cu11==11.4.0.1 in /usr/local/lib/python3.10/dist-packages (from torch) (11.4.0.1)\n",
            "Requirement already satisfied: nvidia-cusparse-cu11==11.7.4.91 in /usr/local/lib/python3.10/dist-packages (from torch) (11.7.4.91)\n",
            "Requirement already satisfied: nvidia-nccl-cu11==2.14.3 in /usr/local/lib/python3.10/dist-packages (from torch) (2.14.3)\n",
            "Requirement already satisfied: nvidia-nvtx-cu11==11.7.91 in /usr/local/lib/python3.10/dist-packages (from torch) (11.7.91)\n",
            "Requirement already satisfied: triton==2.0.0 in /usr/local/lib/python3.10/dist-packages (from torch) (2.0.0)\n",
            "Requirement already satisfied: setuptools in /usr/local/lib/python3.10/dist-packages (from nvidia-cublas-cu11==11.10.3.66->torch) (71.0.4)\n",
            "Requirement already satisfied: wheel in /usr/local/lib/python3.10/dist-packages (from nvidia-cublas-cu11==11.10.3.66->torch) (0.44.0)\n",
            "Requirement already satisfied: cmake in /usr/local/lib/python3.10/dist-packages (from triton==2.0.0->torch) (3.30.3)\n",
            "Requirement already satisfied: lit in /usr/local/lib/python3.10/dist-packages (from triton==2.0.0->torch) (18.1.8)\n",
            "Requirement already satisfied: numpy in /usr/local/lib/python3.10/dist-packages (from torchvision) (1.26.4)\n",
            "Collecting torch\n",
            "  Downloading torch-2.4.0-cp310-cp310-manylinux1_x86_64.whl.metadata (26 kB)\n",
            "Requirement already satisfied: pillow!=8.3.*,>=5.3.0 in /usr/local/lib/python3.10/dist-packages (from torchvision) (9.4.0)\n",
            "Requirement already satisfied: fsspec in /usr/local/lib/python3.10/dist-packages (from torch) (2024.6.1)\n",
            "Collecting nvidia-cuda-nvrtc-cu12==12.1.105 (from torch)\n",
            "  Downloading nvidia_cuda_nvrtc_cu12-12.1.105-py3-none-manylinux1_x86_64.whl.metadata (1.5 kB)\n",
            "Collecting nvidia-cuda-runtime-cu12==12.1.105 (from torch)\n",
            "  Downloading nvidia_cuda_runtime_cu12-12.1.105-py3-none-manylinux1_x86_64.whl.metadata (1.5 kB)\n",
            "Collecting nvidia-cuda-cupti-cu12==12.1.105 (from torch)\n",
            "  Downloading nvidia_cuda_cupti_cu12-12.1.105-py3-none-manylinux1_x86_64.whl.metadata (1.6 kB)\n",
            "Collecting nvidia-cudnn-cu12==9.1.0.70 (from torch)\n",
            "  Downloading nvidia_cudnn_cu12-9.1.0.70-py3-none-manylinux2014_x86_64.whl.metadata (1.6 kB)\n",
            "Collecting nvidia-cublas-cu12==12.1.3.1 (from torch)\n",
            "  Downloading nvidia_cublas_cu12-12.1.3.1-py3-none-manylinux1_x86_64.whl.metadata (1.5 kB)\n",
            "Collecting nvidia-cufft-cu12==11.0.2.54 (from torch)\n",
            "  Downloading nvidia_cufft_cu12-11.0.2.54-py3-none-manylinux1_x86_64.whl.metadata (1.5 kB)\n",
            "Collecting nvidia-curand-cu12==10.3.2.106 (from torch)\n",
            "  Downloading nvidia_curand_cu12-10.3.2.106-py3-none-manylinux1_x86_64.whl.metadata (1.5 kB)\n",
            "Collecting nvidia-cusolver-cu12==11.4.5.107 (from torch)\n",
            "  Downloading nvidia_cusolver_cu12-11.4.5.107-py3-none-manylinux1_x86_64.whl.metadata (1.6 kB)\n",
            "Collecting nvidia-cusparse-cu12==12.1.0.106 (from torch)\n",
            "  Downloading nvidia_cusparse_cu12-12.1.0.106-py3-none-manylinux1_x86_64.whl.metadata (1.6 kB)\n",
            "Collecting nvidia-nccl-cu12==2.20.5 (from torch)\n",
            "  Downloading nvidia_nccl_cu12-2.20.5-py3-none-manylinux2014_x86_64.whl.metadata (1.8 kB)\n",
            "Collecting nvidia-nvtx-cu12==12.1.105 (from torch)\n",
            "  Downloading nvidia_nvtx_cu12-12.1.105-py3-none-manylinux1_x86_64.whl.metadata (1.7 kB)\n",
            "Collecting triton==3.0.0 (from torch)\n",
            "  Downloading triton-3.0.0-1-cp310-cp310-manylinux2014_x86_64.manylinux_2_17_x86_64.whl.metadata (1.3 kB)\n",
            "Collecting nvidia-nvjitlink-cu12 (from nvidia-cusolver-cu12==11.4.5.107->torch)\n",
            "  Downloading nvidia_nvjitlink_cu12-12.6.68-py3-none-manylinux2014_x86_64.whl.metadata (1.5 kB)\n",
            "Requirement already satisfied: MarkupSafe>=2.0 in /usr/local/lib/python3.10/dist-packages (from jinja2->torch) (2.1.5)\n",
            "Requirement already satisfied: mpmath<1.4,>=1.1.0 in /usr/local/lib/python3.10/dist-packages (from sympy->torch) (1.3.0)\n",
            "Downloading torch-2.4.0-cp310-cp310-manylinux1_x86_64.whl (797.2 MB)\n",
            "\u001b[2K   \u001b[90m━━━━━━━━━━━━━━━━━━━━━━━━━━━━━━━━━━━━━━━━\u001b[0m \u001b[32m797.2/797.2 MB\u001b[0m \u001b[31m1.9 MB/s\u001b[0m eta \u001b[36m0:00:00\u001b[0m\n",
            "\u001b[?25hDownloading nvidia_cublas_cu12-12.1.3.1-py3-none-manylinux1_x86_64.whl (410.6 MB)\n",
            "\u001b[2K   \u001b[90m━━━━━━━━━━━━━━━━━━━━━━━━━━━━━━━━━━━━━━━━\u001b[0m \u001b[32m410.6/410.6 MB\u001b[0m \u001b[31m1.1 MB/s\u001b[0m eta \u001b[36m0:00:00\u001b[0m\n",
            "\u001b[?25hDownloading nvidia_cuda_cupti_cu12-12.1.105-py3-none-manylinux1_x86_64.whl (14.1 MB)\n",
            "\u001b[2K   \u001b[90m━━━━━━━━━━━━━━━━━━━━━━━━━━━━━━━━━━━━━━━━\u001b[0m \u001b[32m14.1/14.1 MB\u001b[0m \u001b[31m12.5 MB/s\u001b[0m eta \u001b[36m0:00:00\u001b[0m\n",
            "\u001b[?25hDownloading nvidia_cuda_nvrtc_cu12-12.1.105-py3-none-manylinux1_x86_64.whl (23.7 MB)\n",
            "\u001b[2K   \u001b[90m━━━━━━━━━━━━━━━━━━━━━━━━━━━━━━━━━━━━━━━━\u001b[0m \u001b[32m23.7/23.7 MB\u001b[0m \u001b[31m8.2 MB/s\u001b[0m eta \u001b[36m0:00:00\u001b[0m\n",
            "\u001b[?25hDownloading nvidia_cuda_runtime_cu12-12.1.105-py3-none-manylinux1_x86_64.whl (823 kB)\n",
            "\u001b[2K   \u001b[90m━━━━━━━━━━━━━━━━━━━━━━━━━━━━━━━━━━━━━━━━\u001b[0m \u001b[32m823.6/823.6 kB\u001b[0m \u001b[31m7.5 MB/s\u001b[0m eta \u001b[36m0:00:00\u001b[0m\n",
            "\u001b[?25hDownloading nvidia_cudnn_cu12-9.1.0.70-py3-none-manylinux2014_x86_64.whl (664.8 MB)\n",
            "\u001b[2K   \u001b[90m━━━━━━━━━━━━━━━━━━━━━━━━━━━━━━━━━━━━━━━━\u001b[0m \u001b[32m664.8/664.8 MB\u001b[0m \u001b[31m1.2 MB/s\u001b[0m eta \u001b[36m0:00:00\u001b[0m\n",
            "\u001b[?25hDownloading nvidia_cufft_cu12-11.0.2.54-py3-none-manylinux1_x86_64.whl (121.6 MB)\n",
            "\u001b[2K   \u001b[90m━━━━━━━━━━━━━━━━━━━━━━━━━━━━━━━━━━━━━━━━\u001b[0m \u001b[32m121.6/121.6 MB\u001b[0m \u001b[31m7.0 MB/s\u001b[0m eta \u001b[36m0:00:00\u001b[0m\n",
            "\u001b[?25hDownloading nvidia_curand_cu12-10.3.2.106-py3-none-manylinux1_x86_64.whl (56.5 MB)\n",
            "\u001b[2K   \u001b[90m━━━━━━━━━━━━━━━━━━━━━━━━━━━━━━━━━━━━━━━━\u001b[0m \u001b[32m56.5/56.5 MB\u001b[0m \u001b[31m4.6 MB/s\u001b[0m eta \u001b[36m0:00:00\u001b[0m\n",
            "\u001b[?25hDownloading nvidia_cusolver_cu12-11.4.5.107-py3-none-manylinux1_x86_64.whl (124.2 MB)\n",
            "\u001b[2K   \u001b[90m━━━━━━━━━━━━━━━━━━━━━━━━━━━━━━━━━━━━━━━━\u001b[0m \u001b[32m124.2/124.2 MB\u001b[0m \u001b[31m3.9 MB/s\u001b[0m eta \u001b[36m0:00:00\u001b[0m\n",
            "\u001b[?25hDownloading nvidia_cusparse_cu12-12.1.0.106-py3-none-manylinux1_x86_64.whl (196.0 MB)\n",
            "\u001b[2K   \u001b[90m━━━━━━━━━━━━━━━━━━━━━━━━━━━━━━━━━━━━━━━━\u001b[0m \u001b[32m196.0/196.0 MB\u001b[0m \u001b[31m5.7 MB/s\u001b[0m eta \u001b[36m0:00:00\u001b[0m\n",
            "\u001b[?25hDownloading nvidia_nccl_cu12-2.20.5-py3-none-manylinux2014_x86_64.whl (176.2 MB)\n",
            "\u001b[2K   \u001b[90m━━━━━━━━━━━━━━━━━━━━━━━━━━━━━━━━━━━━━━━━\u001b[0m \u001b[32m176.2/176.2 MB\u001b[0m \u001b[31m6.7 MB/s\u001b[0m eta \u001b[36m0:00:00\u001b[0m\n",
            "\u001b[?25hDownloading nvidia_nvtx_cu12-12.1.105-py3-none-manylinux1_x86_64.whl (99 kB)\n",
            "\u001b[2K   \u001b[90m━━━━━━━━━━━━━━━━━━━━━━━━━━━━━━━━━━━━━━━━\u001b[0m \u001b[32m99.1/99.1 kB\u001b[0m \u001b[31m5.2 MB/s\u001b[0m eta \u001b[36m0:00:00\u001b[0m\n",
            "\u001b[?25hDownloading triton-3.0.0-1-cp310-cp310-manylinux2014_x86_64.manylinux_2_17_x86_64.whl (209.4 MB)\n",
            "\u001b[2K   \u001b[90m━━━━━━━━━━━━━━━━━━━━━━━━━━━━━━━━━━━━━━━━\u001b[0m \u001b[32m209.4/209.4 MB\u001b[0m \u001b[31m6.3 MB/s\u001b[0m eta \u001b[36m0:00:00\u001b[0m\n",
            "\u001b[?25hDownloading nvidia_nvjitlink_cu12-12.6.68-py3-none-manylinux2014_x86_64.whl (19.7 MB)\n",
            "\u001b[2K   \u001b[90m━━━━━━━━━━━━━━━━━━━━━━━━━━━━━━━━━━━━━━━━\u001b[0m \u001b[32m19.7/19.7 MB\u001b[0m \u001b[31m30.1 MB/s\u001b[0m eta \u001b[36m0:00:00\u001b[0m\n",
            "\u001b[?25hInstalling collected packages: triton, nvidia-nvtx-cu12, nvidia-nvjitlink-cu12, nvidia-nccl-cu12, nvidia-curand-cu12, nvidia-cufft-cu12, nvidia-cuda-runtime-cu12, nvidia-cuda-nvrtc-cu12, nvidia-cuda-cupti-cu12, nvidia-cublas-cu12, nvidia-cusparse-cu12, nvidia-cudnn-cu12, nvidia-cusolver-cu12, torch\n",
            "  Attempting uninstall: triton\n",
            "    Found existing installation: triton 2.0.0\n",
            "    Uninstalling triton-2.0.0:\n",
            "      Successfully uninstalled triton-2.0.0\n",
            "  Attempting uninstall: nvidia-nccl-cu12\n",
            "    Found existing installation: nvidia-nccl-cu12 2.23.4\n",
            "    Uninstalling nvidia-nccl-cu12-2.23.4:\n",
            "      Successfully uninstalled nvidia-nccl-cu12-2.23.4\n",
            "  Attempting uninstall: torch\n",
            "    Found existing installation: torch 2.0.1\n",
            "    Uninstalling torch-2.0.1:\n",
            "      Successfully uninstalled torch-2.0.1\n",
            "Successfully installed nvidia-cublas-cu12-12.1.3.1 nvidia-cuda-cupti-cu12-12.1.105 nvidia-cuda-nvrtc-cu12-12.1.105 nvidia-cuda-runtime-cu12-12.1.105 nvidia-cudnn-cu12-9.1.0.70 nvidia-cufft-cu12-11.0.2.54 nvidia-curand-cu12-10.3.2.106 nvidia-cusolver-cu12-11.4.5.107 nvidia-cusparse-cu12-12.1.0.106 nvidia-nccl-cu12-2.20.5 nvidia-nvjitlink-cu12-12.6.68 nvidia-nvtx-cu12-12.1.105 torch-2.4.0 triton-3.0.0\n"
          ]
        }
      ]
    },
    {
      "cell_type": "code",
      "source": [
        "!nougat pdf '/content/input/research.pdf' --out 'output'"
      ],
      "metadata": {
        "colab": {
          "base_uri": "https://localhost:8080/"
        },
        "id": "K5oAh9aEg9Oa",
        "outputId": "1bd36993-884f-444e-92d5-b9564f797c86"
      },
      "execution_count": null,
      "outputs": [
        {
          "output_type": "stream",
          "name": "stdout",
          "text": [
            "/usr/local/lib/python3.10/dist-packages/transformers/modeling_utils.py:463: FutureWarning: You are using `torch.load` with `weights_only=False` (the current default value), which uses the default pickle module implicitly. It is possible to construct malicious pickle data which will execute arbitrary code during unpickling (See https://github.com/pytorch/pytorch/blob/main/SECURITY.md#untrusted-models for more details). In a future release, the default value for `weights_only` will be flipped to `True`. This limits the functions that could be executed during unpickling. Arbitrary objects will no longer be allowed to be loaded via this mode unless they are explicitly allowlisted by the user via `torch.serialization.add_safe_globals`. We recommend you start setting `weights_only=True` for any use case where you don't have full control of the loaded file. Please open an issue on GitHub for any issues related to this experimental feature.\n",
            "  return torch.load(checkpoint_file, map_location=\"cpu\")\n",
            "/usr/local/lib/python3.10/dist-packages/torch/functional.py:513: UserWarning: torch.meshgrid: in an upcoming release, it will be required to pass the indexing argument. (Triggered internally at ../aten/src/ATen/native/TensorShape.cpp:3609.)\n",
            "  return _VF.meshgrid(tensors, **kwargs)  # type: ignore[attr-defined]\n",
            "  0% 0/3 [00:00<?, ?it/s]/usr/local/lib/python3.10/dist-packages/nougat/model.py:437: UserWarning: var(): degrees of freedom is <= 0. Correction should be strictly less than the reduction factor (input numel divided by output numel). (Triggered internally at ../aten/src/ATen/native/ReduceOps.cpp:1808.)\n",
            "  return torch.var(self.values, 1) / self.values.shape[1]\n",
            "WARNING:root:Found repetitions in sample 0\n",
            "2024-09-18 00:41:17.796209: E external/local_xla/xla/stream_executor/cuda/cuda_fft.cc:485] Unable to register cuFFT factory: Attempting to register factory for plugin cuFFT when one has already been registered\n",
            "2024-09-18 00:41:17.814045: E external/local_xla/xla/stream_executor/cuda/cuda_dnn.cc:8454] Unable to register cuDNN factory: Attempting to register factory for plugin cuDNN when one has already been registered\n",
            "2024-09-18 00:41:17.818823: E external/local_xla/xla/stream_executor/cuda/cuda_blas.cc:1452] Unable to register cuBLAS factory: Attempting to register factory for plugin cuBLAS when one has already been registered\n",
            "2024-09-18 00:41:18.896668: W tensorflow/compiler/tf2tensorrt/utils/py_utils.cc:38] TF-TRT Warning: Could not find TensorRT\n",
            "INFO:numexpr.utils:NumExpr defaulting to 2 threads.\n",
            "INFO:root:Processing file /content/input/research.pdf with 11 pages\n",
            "WARNING:root:Skipping page 1 due to repetitions.\n",
            " 33% 1/3 [00:29<00:59, 29.53s/it]/usr/local/lib/python3.10/dist-packages/nougat/model.py:437: UserWarning: var(): degrees of freedom is <= 0. Correction should be strictly less than the reduction factor (input numel divided by output numel). (Triggered internally at ../aten/src/ATen/native/ReduceOps.cpp:1808.)\n",
            "  return torch.var(self.values, 1) / self.values.shape[1]\n",
            "WARNING:root:Found repetitions in sample 3\n",
            "WARNING:root:Skipping page 8 due to repetitions.\n",
            "100% 3/3 [01:05<00:00, 21.99s/it]\n"
          ]
        }
      ]
    },
    {
      "cell_type": "code",
      "source": [
        "display.Latex('/content/output/research.mmd')"
      ],
      "metadata": {
        "colab": {
          "base_uri": "https://localhost:8080/",
          "height": 1000
        },
        "id": "EmkwAlk_hodd",
        "outputId": "f3ed7b83-ce3d-4032-ad23-213cfe92d780"
      },
      "execution_count": null,
      "outputs": [
        {
          "output_type": "execute_result",
          "data": {
            "text/plain": [
              "<IPython.core.display.Latex object>"
            ],
            "text/latex": "[MISSING_PAGE_FAIL:1]\n\n### Continuous Functions\n\nIf \\(f(x)\\)is continuous at \\(a\\) then \\(\\underset{x\\to a}{\\text{lim}}\\ f(x)=f(a)\\)\n\n### Continuous Functions and Composition\n\n\\(f(x)\\) is continuous at \\(b\\) and \\(\\underset{x\\to a}{\\text{lim}}\\ g(x)=b\\) then\n\n\\[\\underset{x\\to a}{\\text{lim}}\\ f\\left(g(x)\\right)=f\\left(\\underset{x\\to a}{ \\text{lim}}\\ g(x)\\right)=f\\left(b\\right)\\]\n\n### Factor and Cancel\n\n\\[\\underset{x\\to 2}{\\text{lim}}\\ \\frac{x^{2}+4x-12}{x^{2}-2x} =\\underset{x\\to 2}{\\text{lim}}\\ \\frac{(x-2)(x+6)}{x(x-2)}\\] \\[=\\underset{x\\to 2}{\\text{lim}}\\ \\frac{x+6}{x}=\\frac{8}{2}=4\\]\n\n### Rationalize Numerator/Denominator\n\n\\[\\underset{x\\to 9}{\\text{lim}}\\ \\frac{3-\\sqrt{x}}{x^{2}-81}= \\underset{x\\to 9}{\\text{lim}}\\ \\frac{3-\\sqrt{x}}{x^{2}-81}\\ \\frac{3+\\sqrt{x}}{3+\\sqrt{x}}\\] \\[=\\underset{x\\to 9}{\\text{lim}}\\ \\frac{9-x}{(x^{2}-81)(3+\\sqrt{x})}= \\underset{x\\to 9}{\\text{lim}}\\ \\frac{-1}{(x+9)(3+\\sqrt{x})}\\] \\[=\\frac{-1}{(18)(6)}=-\\frac{1}{108}\\]\n\n### Combine Rational Expressions\n\n\\[\\underset{h\\to 0}{\\text{lim}}\\ \\frac{1}{h}\\left(\\frac{1}{x+h}-\\frac{1}{x}\\right)= \\underset{h\\to 0}{\\text{lim}}\\ \\frac{1}{h}\\left(\\frac{x-(x+h)}{x(x+h)}\\right)\\] \\[=\\underset{h\\to 0}{\\text{lim}}\\ \\frac{1}{h}\\left(\\frac{-h}{x(x+h)} \\right)=\\underset{h\\to 0}{\\text{lim}}\\ \\frac{-1}{x(x+h)}=-\\frac{1}{x^{2}}\\]\n\n### Some Continuous Functions\n\nPartial list of continuous functions and the values of \\(x\\) for which they are continuous.\n\n1. Polynomials for all \\(x\\).\n2. Rational function, except for \\(x\\)'s that give division by zero.\n3. \\(\\sqrt[x]{x}\\) (n odd) for all \\(x\\).\n4. \\(\\sqrt[x]{x}\\) (n even) for all \\(x\\geq 0\\).\n5. \\(\\mathbf{e}^{x}\\) for all \\(x\\).\n\n### Intermediate Value Theorem\n\nSuppose that \\(f(x)\\) is continuous on \\([a,b]\\) and let \\(M\\) be any number between \\(f(a)\\) and \\(f(b)\\). Then there exists a number \\(c\\) such that \\(a<c<b\\) and \\(f(c)=M\\).\n\n## Derivatives\n\n### Definition and Notation\n\nIf \\(y=f(x)\\) then the derivative is defined to be \\(f^{\\prime}(x)=\\underset{h\\to 0}{\\text{lim}}\\,\\frac{f(x+h)-f(x)}{h}\\).\n\nIf \\(y=f(x)\\) then all of the following are equivalent notations for the derivative.\n\n\\[f^{\\prime}(x)=y^{\\prime}=\\frac{df}{dx}=\\frac{dy}{dx}=\\frac{d}{dx}\\left(f(x) \\right)=Df(x)\\]\n\n### Interpretation of the Derivative\n\nIf \\(y=f(x)\\) then,\n\n1. \\(m=f^{\\prime}(a)\\) is the slope of the tangent line to \\(y=f(x)\\) at \\(x=a\\) and the equation of the tangent line at \\(x=a\\) is given by \\(y=f(a)+f^{\\prime}(a)(x-a)\\).\n2. \\(f^{\\prime}(a)\\) is the instantaneous rate of change of \\(f(x)\\) at \\(x=a\\).\n3. If \\(f(t)\\) is the position of an object at time \\(t\\) then \\(f^{\\prime}(a)\\) is the velocity of the object at \\(t=a\\).\n\n### Basic Properties and Formulas\n\nIf \\(f(x)\\) and \\(g(x)\\) are differentiable functions (the derivative exists), \\(c\\) and \\(n\\) are any real numbers,\n\n1. \\(\\frac{d}{dx}\\Big{(}c\\Big{)}=0\\)\n2. \\(\\Big{(}c\\,f(x)\\Big{)}^{\\prime}=c\\,f^{\\prime}(x)\\)\n3. \\(\\frac{d}{dx}\\Big{(}x^{n}\\Big{)}=n\\,x^{n-1}\\) - Power Rule\n4. \\(\\Big{(}f(x)\\pm g(x)\\Big{)}^{\\prime}=f^{\\prime}(x)\\pm g^{\\prime}(x)\\)\n5. \\(\\Big{(}f(x)\\,g(x)\\Big{)}^{\\prime}=f^{\\prime}(x)\\,g(x)+f(x)\\,g^{\\prime}(x)\\) - Product Rule\n6. \\(\\Big{(}\\frac{f(x)}{g(x)}\\Big{)}^{\\prime}=\\frac{f^{\\prime}(x)\\,g(x)-f(x)\\,g^{ \\prime}(x)}{\\Big{(}g(x)\\Big{)}^{2}}\\) - Quotient Rule\n7. \\(\\frac{d}{dx}\\Big{(}f\\Big{(}g(x)\\Big{)}\\Big{)}=f^{\\prime}\\Big{(}g(x)\\Big{)} \\,g^{\\prime}(x)\\) - Chain Rule\n\n### Common Derivatives\n\n\\[\\frac{d}{dx}\\Big{(}x\\Big{)}\\!=1 \\frac{d}{dx}\\Big{(}\\,\\mathsf{csc}(x)\\Big{)}\\!\\!=-\\,\\mathsf{csc}( x)\\,\\mathsf{cot}(x) \\frac{d}{dx}\\Big{(}a^{x}\\Big{)}\\!=a^{x}\\,\\mathsf{ln}(a)\\] \\[\\frac{d}{dx}\\Big{(}\\,\\mathsf{sin}(x)\\Big{)}\\!=\\!\\mathsf{cos}(x) \\frac{d}{dx}\\Big{(}\\,\\mathsf{cot}(x)\\Big{)}\\!=-\\,\\mathsf{csc}^{2}(x) \\frac{d}{dx}\\Big{(}\\,\\mathsf{\\char 2}^{x}\\Big{)}\\!=\\!\\mathsf{e}^{x}\\] \\[\\frac{d}{dx}\\Big{(}\\,\\mathsf{cos}(x)\\Big{)}\\!=-\\,\\mathsf{sin}(x) \\frac{d}{dx}\\Big{(}\\,\\mathsf{sin}^{-1}(x)\\Big{)}\\!=\\frac{1}{\\sqrt{ 1-x^{2}}} \\frac{d}{dx}\\Big{(}\\,\\mathsf{ln}(x)\\Big{)}\\!=\\frac{1}{x},\\,\\,\\,x>0\\] \\[\\frac{d}{dx}\\Big{(}\\,\\mathsf{tan}(x)\\Big{)}\\!=\\!\\mathsf{sec}^{2}(x) \\frac{d}{dx}\\Big{(}\\,\\mathsf{cos}^{-1}(x)\\Big{)}\\!=-\\frac{1}{\\sqrt{ 1-x^{2}}} \\frac{d}{dx}\\Big{(}\\,\\mathsf{ln}\\,|x|\\Big{)}\\!=\\frac{1}{x},\\,\\,\\,x\\neq 0\\] \\[\\frac{d}{dx}\\Big{(}\\,\\mathsf{sec}(x)\\Big{)}\\!=\\!\\mathsf{sec}(x)\\, \\mathsf{tan}(x) \\frac{d}{dx}\\Big{(}\\,\\mathsf{tan}^{-1}(x)\\Big{)}\\!=\\frac{1}{1+x^{2}} \\frac{d}{dx}\\Big{(}\\,\\mathsf{log}_{a}(x)\\Big{)}\\!=\\frac{1}{x\\, \\mathsf{ln}(a)},\\,\\,\\,x>0\\]\n\n### Chain Rule Variants\n\nThe chain rule applied to some specific functions.\n\n1. \\(\\frac{d}{dx}\\bigg{(}\\Big{[}f(x)\\Big{]}^{n}\\bigg{)}\\!=n\\Big{[}f(x)\\Big{]}^{n-1}f^{ \\prime}(x)\\)\n2. \\(\\frac{d}{dx}\\bigg{(}\\textbf{e}^{f(x)}\\bigg{)}\\!=f^{\\prime}(x)\\,\\textbf{e}^{f(x)}\\)\n3. \\(\\frac{d}{dx}\\bigg{(}\\,\\textsf{ln}\\,\\Big{[}f(x)\\Big{]}\\bigg{)}\\!=\\frac{f^{\\prime} (x)}{f(x)}\\)\n4. \\(\\frac{d}{dx}\\bigg{(}\\,\\textsf{sin}\\,\\Big{[}f(x)\\Big{]}\\bigg{)}\\!=f^{\\prime}(x) \\,\\textsf{cos}\\,\\Big{[}f(x)\\Big{]}\\)\n5. \\(\\frac{d}{dx}\\bigg{(}\\,\\textsf{cos}\\,\\Big{[}f(x)\\Big{]}\\bigg{)}\\!=-f^{\\prime}(x) \\,\\textsf{sin}\\,\\Big{[}f(x)\\Big{]}\\)\n6. \\(\\frac{d}{dx}\\bigg{(}\\,\\textsf{tan}\\,\\Big{[}f(x)\\Big{]}\\bigg{)}\\!=f^{\\prime}(x) \\,\\textsf{sec}^{2}\\,\\Big{[}f(x)\\Big{]}\\)\n7. \\(\\frac{d}{dx}\\bigg{(}\\,\\textsf{sec}\\,\\Big{[}f(x)\\Big{]}\\bigg{)}\\!=f^{\\prime}(x) \\,\\textsf{sec}\\,\\Big{[}f(x)\\Big{]}\\,\\textsf{tan}\\,\\Big{[}f(x)\\Big{]}\\)\n8. \\(\\frac{d}{dx}\\bigg{(}\\,\\textsf{tan}^{-1}\\,\\Big{[}f(x)\\Big{]}\\bigg{)}\\!=\\frac{f^ {\\prime}(x)}{1+\\Big{[}f(x)\\Big{]}^{2}}\\)\n\n### Higher Order Derivatives\n\nThe \\(2^{nd}\\) Derivative is denoted as\n\n\\(f^{\\prime\\prime}(x)=f^{(2)}(x)=\\frac{d^{2}f}{dx^{2}}\\) and is defined as\n\n\\(f^{\\prime\\prime}(x)=\\Big{(}f^{\\prime}(x)\\big{)}^{\\prime}\\), _i.e._ the derivative of the first derivative, \\(f^{\\prime}(x)\\).\n\n### Implicit Differentiation\n\nFind \\(y^{\\prime}\\) if \\(\\textbf{e}^{2x-9y}+x^{3}y^{2}=\\textsf{sin}(y)+11x\\). Remember \\(y=y(x)\\) here, so products/quotients of \\(x\\) and \\(y\\) will use the product/quotient rule and derivatives of \\(y\\) will use the chain rule. The \"trick\" is to differentiate as normal and every time you differentiate a \\(y\\) you tack on a \\(y^{\\prime}\\) (from the chain rule). Then solve for \\(y^{\\prime}\\).\n\n\\[\\textbf{e}^{2x-9y}(2-9y^{\\prime})+3x^{2}y^{2}+2x^{3}y\\,y^{\\prime }=\\textsf{cos}(y)y^{\\prime}+11\\] \\[2\\textbf{e}^{2x-9y}-9y^{\\prime}\\textbf{e}^{2x-9y}+3x^{2}y^{2}+2 x^{3}y\\,y^{\\prime}=\\textsf{cos}(y)y^{\\prime}+11\\qquad\\Rightarrow\\quad y^{ \\prime}=\\frac{11-2\\textbf{e}^{2x-9y}-3x^{2}y^{2}}{2x^{3}y-9\\textbf{e}^{2x-9y}- \\textsf{cos}(y)}\\] \\[\\big{(}2x^{3}y-9\\textbf{e}^{2x-9y}-\\textsf{cos}(y)\\big{)}y^{ \\prime}=11-2\\textbf{e}^{2x-9y}-3x^{2}y^{2}\\]\n\n### Increasing/Decreasing - Concave Up/Concave Down\n\n**Concave Up/Concave Down**\n\n\\(x=c\\) is a critical point of \\(f(x)\\) provided either\n\n**1.**\\(f^{\\prime}(c)=0\\) or,\n\n**2.**\\(f^{\\prime}(c)\\) doesn't exist.\n\n**Increasing/Decreasing**\n\n1. If \\(f^{\\prime}(x)>0\\) for all \\(x\\) in an interval \\(I\\) then \\(f(x)\\) is increasing on the interval \\(I\\).\n2. If \\(f^{\\prime}(x)<0\\) for all \\(x\\) in an interval \\(I\\) then \\(f(x)\\) is decreasing on the interval \\(I\\).\n3. If \\(f^{\\prime}(x)=0\\) for all \\(x\\) in an interval \\(I\\) then \\(f(x)\\) is constant on the interval \\(I\\).\n\n**Concave Up/Concave Down**\n\n1. If \\(f^{\\prime\\prime}(x)>0\\) for all \\(x\\) in an interval \\(I\\) then \\(f(x)\\) is concave up on the interval \\(I\\).\n2. If \\(f^{\\prime\\prime}(x)<0\\) for all \\(x\\) in an interval \\(I\\) then \\(f(x)\\) is concave down on the interval \\(I\\).\n\n**Inflection Points**\n\n\\(x=c\\) is a inflection point of \\(f(x)\\) if the concavity changes at \\(x=c\\).\n\n### Absolute Extrema\n\n1. \\(x=c\\) is an absolute maximum of \\(f(x)\\) if \\(f(c)\\geq f(x)\\) for all \\(x\\) in the domain.\n2. \\(x=c\\) is an absolute minimum of \\(f(x)\\) if \\(f(c)\\leq f(x)\\) for all \\(x\\) in the domain.\n\n### Fermat's Theorem\n\nIf \\(f(x)\\) has a relative (or local) extrema at \\(x=c\\), then \\(x=c\\) is a critical point of \\(f(x)\\).\n\n### Extreme Value Theorem\n\nIf \\(f(x)\\) is continuous on the closed interval \\([a,b]\\) then there exist numbers \\(c\\) and \\(d\\) so that,\n\n1. \\(a\\leq c,d\\leq b\\),\n2. \\(f(c)\\) is the absolute maximum in \\([a,b]\\),\n3. \\(f(d)\\) is the absolute minimum in \\([a,b]\\).\n\n### Finding Absolute Extrema\n\nTo find the absolute extrema of the continuous function \\(f(x)\\) on the interval \\([a,b]\\) use the following process.\n\n1. Find all critical points of \\(f(x)\\) in \\([a,b]\\).\n2. Evaluate \\(f(x)\\) at all points found in Step 1.\n3. Evaluate \\(f(a)\\) and \\(f(b)\\).\n4. Identify the absolute maximum (largest function value) and the absolute minimum (smallest function value) from the evaluations in Steps 2 & 3.\n\n### Mean Value Theorem\n\nIf \\(f(x)\\) is continuous on the closed interval \\([a,b]\\) and differentiable on the open interval \\((a,b)\\) then there is a number \\(a<c<b\\) such that \\(f^{\\prime}(c)=\\dfrac{f(b)-f(a)}{b-a}\\).\n\n### Newton's Method\n\nIf \\(x_{n}\\) is the \\(n^{th}\\) guess for the root/solution of \\(f(x)=0\\) then \\((n+1)^{st}\\) guess is \\(x_{n+1}=x_{n}-\\dfrac{f(x_{n})}{f^{\\prime}(x_{n})}\\) provided \\(f^{\\prime}(x_{n})\\) exists.\n\n### Related Rates\n\nSketch picture and identify known/unknown quantities. Write down equation relating quantities and differentiate with respect to \\(t\\) using implicit differentiation (_i.e._ add on a derivative every time you differentiate a function of \\(t\\)). Plug in known quantities and solve for the unknown quantity.\n\n**Example A 15 foot ladder is resting against a wall. The bottom is initially 10 ft away and is being pushed towards the wall at \\(\\frac{1}{4}\\) ft/sec. How fast is the top moving after 12 sec?**\n\n\\(x^{\\prime}\\) is negative because \\(x\\) is decreasing. Using Pythagorean Theorem and differentiating,\n\n\\(x^{2}+y^{2}=15^{2}\\quad\\Rightarrow\\quad 2x\\,x^{\\prime}+2y\\,y^{\\prime}=0\\)\n\nAfter 12 sec we have \\(x=10-12\\left(\\frac{1}{4}\\right)=7\\) and so \\(y=\\sqrt{15^{2}-7^{2}}=\\sqrt{176}\\). Plug in and solve for \\(y^{\\prime}\\).\n\n\\(7\\left(-\\frac{1}{4}\\right)+\\sqrt{176}\\ y^{\\prime}=0\\ \\Rightarrow\\ y^{\\prime}=\\frac{7}{4\\sqrt{176}}\\) ft/sec\n\n### Optimization\n\nSketch picture if needed, write down equation to be optimized and constraint. Solve constraint for one of the two variables and plug into first equation. Find critical points of equation in range of variables and verify that they are min/max as needed.\n\n**Example We're enclosing a rectangular field with 500 ft of fence material and one side of the field is a building. Determine dimensions that will maximize the enclosed area.**\n\n\\(x\\)\\(y\\)\\(x\\)\\(x=500\\)\n\nMaximize \\(A=xy\\) subject to constraint \\(x+2y=500\\). Solve constraint for \\(x\\) and plug into area.\n\n\\(x=500-2y\\quad\\Rightarrow\\quad A=y(500-2y)\\)\n\nDifferentiate and find critical point(s).\n\n\\(A^{\\prime}=500-4y\\Rightarrow\\ y=125\\)\n\nBy \\(2^{nd}\\) derivative test this is a relative maximum and so is the answer we're after. Finally, find \\(x\\).\n\n\\(x=500-2(125)=250\\)\n\nThe dimensions are then 250 x 125.\n\n**Example Determine point(s) on \\(y=x^{2}+1\\) that are closest to \\((0,2)\\).**\n\nMinimize \\(f=d^{2}=(x-0)^{2}+(y-2)^{2}\\) and the constraint is \\(y=x^{2}+1\\). Solve constraint for \\(x^{2}\\) and plug into the function.\n\n\\(x^{2}=y-1\\,\\Rightarrow\\,f=x^{2}+(y-2)^{2}\\)\n\n\\(x=y-1+(y-2)^{2}=y^{2}-3y+3\\)\n\nDifferentiate and find critical point(s).\n\n\\(f^{\\prime}=2y-3\\quad\\Rightarrow\\quad y=\\frac{3}{2}\\)\n\nBy the \\(2^{nd}\\) derivative test this is a relative minimum and so all we need to do is find \\(x\\) value(s).\n\n\\(x^{2}=\\frac{3}{2}-1=\\frac{1}{2}\\quad\\Rightarrow\\quad x=\\pm\\frac{1}{\\sqrt{2}}\\)\n\nThe 2 points are then \\(\\left(\\frac{1}{\\sqrt{2}},\\frac{3}{2}\\right)\\) and \\(\\left(-\\frac{1}{\\sqrt{2}},\\frac{3}{2}\\right)\\).\n\n## 1 Integrals Definitions\n\n**Definites**\n\n**Anti-Derivative :** An anti-derivative of \\(f(x)\\) is a function, \\(F(x)\\), such that \\(F^{\\prime}(x)=f(x)\\).\n\n**Indefinite Integral :**\\(\\int f(x)\\,dx=F(x)+c\\) where \\(F(x)\\) is an anti-derivative of \\(f(x)\\).\n\n**Fundamental Theorem of Calculus**\n\n**Variants of Part I :**\n\n\\[\\frac{d}{dx}\\int_{a}^{u(x)}f(t)\\,dt=u^{\\prime}(x)f\\big{[}u(x)\\big{]}\\]\n\n\\[\\frac{d}{dx}\\int_{v(x)}^{b}f(t)\\,dt=-v^{\\prime}(x)f\\big{[}v(x)\\big{]}\\]\n\n\\[\\frac{d}{dx}\\int_{v(x)}^{u(x)}f(t)\\,dt=u^{\\prime}(x)f\\big{[}u(x)\\big{]}-v^{ \\prime}(x)f\\big{[}v(x)\\big{]}\\]\n\n\\[\\int_{a}^{b}f(x)\\,dx=F(b)-F(a).\\]\n\n## 2 Properties\n\n\\[\\int f(x)\\pm g(x)\\,dx=\\int f(x)\\,dx\\pm\\int g(x)\\,dx \\int cf(x)\\,dx=c\\int f(x)\\,dx\\] \\[\\int_{a}^{b}f(x)\\pm g(x)\\,dx=\\int_{a}^{b}f(x)\\,dx\\pm\\int_{a}^{b} g(x)\\,dx \\int_{a}^{b}cf(x)\\,dx=c\\int_{a}^{b}f(x)\\,dx\\] \\[\\int_{a}^{a}f(x)\\,dx=0 \\int_{a}^{b}c\\,dx=c(b-a)\\]\n\n\\[\\int_{a}^{b}f(x)\\,dx=-\\int_{b}^{a}f(x)\\,dx \\left|\\int_{a}^{b}f(x)\\,dx\\right|\\leq\\int_{a}^{b}\\Big{|}f(x)\\Big{|}dx\\] \\[\\int_{a}^{b}f(x)\\,dx=\\int_{a}^{c}f(x)\\,dx+\\int_{c}^{b}f(x)\\,dx\\] for any value \\[c\\]\n\nIf \\(f(x)\\geq g(x)\\) on \\(a\\leq x\\leq b\\) then \\(\\int_{a}^{b}f(x)\\,dx\\geq\\int_{a}^{b}g(x)\\,dx\\)\n\nIf \\(f(x)\\geq 0\\) on \\(a\\leq x\\leq b\\) then \\(\\int_{a}^{b}f(x)\\,dx\\geq 0\\)\n\nIf \\(m\\leq f(x)\\leq M\\) on \\(a\\leq x\\leq b\\) then \\(m(b-a)\\leq\\int_{a}^{b}f(x)\\,dx\\leq M(b-a)\\)\n\n[MISSING_PAGE_FAIL:8]\n\n**Integration by Parts :**\\(\\int u\\,dv=uv-\\int v\\,du\\) and \\(\\int_{a}^{b}u\\,dv=uv\\Big{|}_{a}^{b}-\\int_{a}^{b}v\\,du\\). Choose \\(u\\) and \\(dv\\) from integral and compute \\(du\\) by differentiating \\(u\\) and compute \\(v\\) using \\(v=\\int dv\\).\n\n**Example**\\(\\int x\\textbf{e}^{-x}\\,dx\\)\n\n\\(u=x\\quad dv=\\textbf{e}^{-x}\\quad\\Rightarrow\\quad du=dx\\quad v=-\\textbf{e}^{-x}\\)\n\n\\(\\int x\\textbf{e}^{-x}\\,dx=-x\\textbf{e}^{-x}+\\int\\textbf{e}^{-x}\\,dx\\)\n\n\\(=-x\\textbf{e}^{-x}-\\textbf{e}^{-x}+c\\)\n\n**Example**\\(\\int_{3}^{5}\\textbf{ln}(x)\\,dx\\)\n\n\\(u=\\textsf{ln}(x)\\quad dv=dx\\quad\\Rightarrow\\quad du=\\frac{1}{x}dx\\quad v=x\\)\n\n\\(\\int_{3}^{5}\\textsf{ln}(x)\\,dx=x\\,\\textsf{ln}(x)\\Big{|}_{3}^{5}-\\int_{3}^{5} dx=(x\\,\\textsf{ln}(x)-x)\\Big{|}_{3}^{5}\\)\n\n\\(=5\\,\\textsf{ln}(5)-3\\,\\textsf{ln}(3)-2\\)\n\n**Trig Substitutions :** If the integral contains the following root use the given substitution and formula to convert into an integral involving trig functions.\n\n\\(\\sqrt{a^{2}-b^{2}x^{2}}\\;\\Rightarrow\\;x=\\frac{a}{6}\\,\\textsf{sin}(\\theta)\\)\n\n\\(\\textsf{cos}^{2}(\\theta)=1-\\textsf{sin}^{2}(\\theta)\\)\n\n\\(\\textsf{tan}^{2}(\\theta)=\\textsf{sec}^{2}(\\theta)-1\\)\n\n\\(\\textsf{Example}\\int\\frac{16}{x^{2}\\sqrt{4-9x^{2}}}\\,dx\\)\n\n\\(x=\\frac{2}{3}\\,\\textsf{sin}(\\theta)\\;\\Rightarrow\\;\\;dx=\\frac{2}{3}\\,\\textsf{ cos}(\\theta)\\,d\\theta\\)\n\n\\(\\sqrt{4-9x^{2}}\\!=\\!\\sqrt{4-4\\,\\textsf{sin}^{2}(\\theta)}\\!=\\!\\sqrt{4\\,\\textsf{ cos}^{2}(\\theta)}\\!=\\!2\\,|\\textsf{cos}(\\theta)|\\)\n\nRecall \\(\\sqrt{x^{2}}=|x|\\). Because we have an indefinite integral we'll assume positive and drop absolute value bars. If we had a definite integral we'd need to compute \\(\\theta\\)'s and remove absolute value bars based on that and,\n\n\\(|x|=\\left\\{\\begin{array}{ll}x&\\mbox{if }x\\geq 0\\\\ -x&\\mbox{if }x<0\\end{array}\\right.\\)\n\nIn this case we have \\(\\sqrt{4-9x^{2}}=2\\,\\textsf{cos}(\\theta)\\).\n\n**Partial Fractions :** If integrating a rational expression involving polynomials, \\(\\int\\frac{P(x)}{Q(x)}\\,dx\\), where the degree of \\(P(x)\\) is smaller than the degree of \\(Q(x)\\). Factor denominator as completely as possible and find the partial fraction decomposition of the rational expression. Integrate the partial fraction decomposition (P.F.D.). For each factor in the denominator we get term(s) in the decomposition according to the following table.\n\n\\(\\frac{\\textsf{Factor of }Q(x)}{\\textsf{Term in P.F.D}}\\)\n\n\\(ax+b\\)\n\n\\(ax^{2}+bx+c\\)\n\n\\(ax^{2}+bx+c\\)\n\n\\(\\frac{Ax+B}{ax^{2}+bx+c}\\)\n\n\\(\\frac{1}{ax^{2}+bx+c}\\)\n\n\\(\\frac{1}{ax^{2}+bx+c}\\)\n\n\\(\\frac{1}{ax^{2}+bx+c}\\)\n\n**Example**\\(\\int\\frac{7x^{2}+13x}{(x-1)\\,(x^{2}+4)}\\,dx\\)\n\n\\(\\int\\frac{7x^{2}+13x}{(x-1)\\,(x^{2}+4)}\\,dx=\\int\\frac{4}{x-1}+\\frac{3x+16}{x^{2 }+4}\\,dx\\)\n\n\\(=\\int\\frac{4}{x-1}+\\frac{3x}{x^{2}+4}+\\frac{16}{x^{2}+4}\\,dx\\)\n\n\\(=4\\ln|x-1|+\\frac{2}{2}\\ln\\left(x^{2}+4\\right)+\\textsf{stan}^{-1}\\left(\\frac{x} {2}\\right)\\)\n\n\\(A+B=7\\quad C-B=13\\quad 4A-C=0\\)\n\nHere is partial fraction form and recombined.\n\n\\(A=4\\)\n\n\\(B=3\\)\n\n\\(C=16\\)\n\n## Applications of Integrals\n\n**Net Area :**\\(\\int_{a}^{b}f(x)\\,dx\\) represents the net area between \\(f(x)\\) and the \\(x\\)-axis with area above \\(x\\)-axis positive and area below \\(x\\)-axis negative.\n\n### Area Between Curves :\n\nThe general formulas for the two main cases for each are,\n\n\\[y=f(x)\\ \\Rightarrow\\ A=\\int_{a}^{b}[\\text{upper function}]-[\\text{lower function}]\\,dx\\ \\&\\ x=f(y)\\ \\Rightarrow\\ A=\\int_{c}^{d}[\\text{right function}]-[\\text{left function}]\\,dy\\]\n\nIf the curves intersect then the area of each portion must be found individually. Here are some sketches of a couple possible situations and formulas for a couple of possible cases.\n\n**Volumes of Revolution :** The two main formulas are \\(V=\\int A(x)\\,dx\\) and \\(V=\\int A(y)\\,dy\\). Here is some general information about each method of computing and some examples.\n\n\\begin{tabular}{c||c}\n**Rings** & **Cylinders/Shells** \\\\ \\(A=\\pi\\Big{(}(\\text{outer radius})^{2}-(\\text{inner radius})^{2}\\Big{)}\\) & \\(A=2\\pi(\\text{radius})(\\text{width / height})\\) \\\\ Limits: \\(xly\\) of right/bot ring to \\(xly\\) of left/top ring & Limits : \\(xly\\) of inner cyl. to \\(xly\\) of outer cyl. \\\\ Horz. Axis use \\(f(x)\\), & Vert. Axis use \\(f(y)\\), & Horz. Axis use \\(f(y)\\), \\\\ \\(g(x)\\), \\(A(x)\\) and \\(dx\\). & \\(g(y)\\), \\(A(y)\\) and \\(dy\\). & \\(g(x)\\), \\(A(x)\\) and \\(dx\\). \\\\ \\end{tabular}\n\n\\begin{tabular}{c||c}\n**Ex. Axis :**\\(y=a>0\\) & **Ex. Axis :**\\(y=a\\leq 0\\) & **Ex. Axis :**\\(y=a>0\\) \\\\ outer radius : \\(a-f(x)\\) & outer radius: \\(|a|+g(x)\\) & radius : \\(a-y\\) & radius : \\(|a|+y\\) \\\\ inner radius : \\(a-g(x)\\) & inner radius: \\(|a|+f(x)\\) & width : \\(f(y)-g(y)\\) & width : \\(f(y)-g(y)\\) \\\\ \\end{tabular}\n\nThese are only a few cases for horizontal axis of rotation. If the axis of rotation is the \\(x\\)-axis use the \\(y=a\\leq 0\\) case with \\(a=0\\). For vertical axis of rotation (\\(x=a>0\\) and \\(x=a\\leq 0\\)) interchange \\(x\\) and \\(y\\) to get appropriate formulas.\n\n**Work :** If a force of \\(F(x)\\) moves an object in \\(a\\leq x\\leq b\\), the work done is \\(W=\\int_{a}^{b}F(x)\\,dx\\) & \\(f(x)\\) on \\(a\\leq x\\leq b\\) is \\(f_{avg}=\\frac{1}{b-a}\\int_{a}^{b}f(x)\\,dx\\) \\\\ \\end{tabular}\n\n**Arc Length & Surface Area :** The three basic formulas are,\n\n\\[L=\\int_{a}^{b}ds\\qquad\\qquad SA=\\int_{a}^{b}2\\pi y\\,ds\\text{ (rotate about $x$-axis)}\\qquad\\qquad SA=\\int_{a}^{b}2\\pi x\\,ds\\text{ (rotate about $y$-axis)}\\]\n\nwhere \\(ds\\) is dependent upon the form of the function being worked with as follows.\n\n\\[ds =\\sqrt{1+\\left(\\frac{dy}{dx}\\right)^{2}}\\,dx\\,\\text{ if $y=f(x)$, }\\,a\\leq x\\leq b\\quad ds=\\sqrt{\\left(\\frac{dx}{dt}\\right)^{2}+\\left(\\frac{dy}{ dt}\\right)^{2}}\\,dt\\,\\text{ if $x=f(t)$,}y=g(t),\\,\\,\\,a\\leq t\\leq b\\] \\[ds =\\sqrt{1+\\left(\\frac{dx}{dy}\\right)^{2}}\\,dy\\,\\text{ if $x=f(y)$, }a\\leq y\\leq b\\quad ds=\\sqrt{r^{2}+\\left(\\frac{dr}{d\\theta}\\right)^{2}}\\,d \\theta\\,\\text{ if $r=f(\\theta)$, }\\,\\,a\\leq\\theta\\leq b\\]\n\nWith surface area you may have to substitute in for the \\(x\\) or \\(y\\) depending on your choice of \\(ds\\) to match the differential in the \\(ds\\). With parametric and polar you will always need to substitute.\n\n**Improper Integral**\n\nAn improper integral is an integral with one or more infinite limits and/or discontinuous integrands. Integral is called **convergent** if the limit exists and has a finite value and **divergent** if the limit doesn't exist or has infinite value.\n\n**Infinite Limit**\n\n1. \\(\\int_{a}^{\\infty}f(x)\\,dx=\\underset{t\\to\\infty}{\\text{lim}}\\int_{a}^{t}f(x)\\,dx\\) 2. \\(\\int_{-\\infty}^{b}f(x)\\,dx=\\underset{t\\to-\\infty}{\\text{lim}}\\int_{t}^{b}f(x)\\,dx\\)\n\n3. \\(\\int_{-\\infty}^{\\infty}f(x)\\,dx=\\int_{-\\infty}^{c}f(x)\\,dx+\\int_{c}^{\\infty}f(x )\\,dx\\) provided **both** integrals are convergent.\n\n**Discontinuous Integrand**\n\n1. Discontinuity at \\(a\\) : \\(\\int_{a}^{b}f(x)\\,dx=\\underset{t\\to a^{+}}{\\text{lim}}\\int_{t}^{b}f(x)\\,dx\\) 2. Discontinuity at \\(b\\) : \\(\\int_{a}^{b}f(x)\\,dx=\\underset{t\\to b^{-}}{\\text{lim}}\\int_{a}^{t}f(x)\\,dx\\)\n\n3. Discontinuity at \\(a<c<b\\) : \\(\\int_{a}^{b}f(x)\\,dx=\\int_{a}^{c}f(x)\\,dx+\\int_{c}^{b}f(x)\\,dx\\) provided **both** are convergent.\n\n**Comparison Test for Improper Integrals :** If \\(f(x)\\geq g(x)\\geq 0\\) on \\([a,\\infty)\\) then,\n\n1. If \\(\\int_{a}^{\\infty}f(x)\\,dx\\) is convergent then \\(\\int_{a}^{\\infty}g(x)\\,dx\\) is convergent (if larger converges so does the smaller).\n2. If \\(\\int_{a}^{\\infty}g(x)\\,dx\\) is divergent then \\(\\int_{a}^{\\infty}f(x)\\,dx\\) is divergent (if smaller diverges so does the larger).\n\nUseful fact : If \\(a>0\\) then \\(\\int_{a}^{\\infty}\\frac{1}{x^{p}}\\,dx\\) converges if \\(p>1\\) and diverges for \\(p\\leq 1\\).\n\n**Approximating Definite Integrals**\n\nFor given integral \\(\\int_{a}^{b}f(x)\\,dx\\) and \\(n\\) (must be even for Simpson's Rule) define \\(\\Delta x=\\frac{b-a}{n}\\) and divide \\([a,b]\\) into \\(n\\) subintervals \\([x_{0},x_{1}]\\), \\([x_{1},x_{2}]\\),..., \\([x_{n-1},x_{n}]\\) with \\(x_{0}=a\\) and \\(x_{n}=b\\) then,\n\n**Midpoint Rule :**\\(\\int_{a}^{b}f(x)\\,dx\\approx\\Delta x\\left[f(x_{1}^{*})+f(x_{2}^{*})+\\cdots+f(x_{n }^{*})\\right]\\), \\(x_{i}^{*}\\) is midpoint \\([x_{i-1},x_{i}]\\)\n\n**Trapezoid Rule :**\\(\\int_{a}^{b}f(x)\\,dx\\approx\\frac{\\Delta x}{2}\\Big{[}f(x_{0})+2f(x_{1})+2f(x_{2}) +\\cdots+2f(x_{n-1})+f(x_{n})\\Big{]}\\)\n\n**Simpson's Rule :**\\(\\int_{a}^{b}f(x)\\,dx\\approx\\frac{\\Delta x}{3}\\Big{[}f(x_{0})+4f(x_{1})+2f(x_{2}) +\\cdots+2f(x_{n-2})+4f(x_{n-1})+f(x_{n})\\Big{]}\\)"
          },
          "metadata": {},
          "execution_count": 19
        }
      ]
    },
    {
      "cell_type": "markdown",
      "source": [],
      "metadata": {
        "id": "s8WZXawtilrK"
      }
    },
    {
      "cell_type": "code",
      "source": [],
      "metadata": {
        "id": "qiqBILYXilTD"
      },
      "execution_count": null,
      "outputs": []
    }
  ]
}